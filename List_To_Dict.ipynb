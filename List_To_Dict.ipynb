{
 "cells": [
  {
   "cell_type": "code",
   "execution_count": 7,
   "metadata": {},
   "outputs": [
    {
     "name": "stdout",
     "output_type": "stream",
     "text": [
      "{10: 'ab', 11: 'bc', 12: 'cd', 13: 'de'}\n"
     ]
    }
   ],
   "source": [
    "id = [10,11,12,13]\n",
    "name = ['ab','bc','cd','de']\n",
    "\n",
    "res = {}\n",
    "if len(id) == len(name):\n",
    "    for i in range(len(id)):\n",
    "        res[id[i]] = name[i]\n",
    "    print(res)\n",
    "\n",
    "else:\n",
    "    print('Please enter equal no of keys and name')\n",
    "        "
   ]
  }
 ],
 "metadata": {
  "kernelspec": {
   "display_name": "Python 3",
   "language": "python",
   "name": "python3"
  },
  "language_info": {
   "codemirror_mode": {
    "name": "ipython",
    "version": 3
   },
   "file_extension": ".py",
   "mimetype": "text/x-python",
   "name": "python",
   "nbconvert_exporter": "python",
   "pygments_lexer": "ipython3",
   "version": "3.8.5"
  }
 },
 "nbformat": 4,
 "nbformat_minor": 4
}
