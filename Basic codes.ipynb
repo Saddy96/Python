{
 "cells": [
  {
   "cell_type": "code",
   "execution_count": 1,
   "metadata": {},
   "outputs": [
    {
     "name": "stdout",
     "output_type": "stream",
     "text": [
      "enter the lenght of rectangle: 5\n",
      "enter the breadth of rectangle: 6\n",
      "The area of rectangle is:  30\n"
     ]
    }
   ],
   "source": [
    "#A program that computes the area of rectangle\n",
    "lenght = int(input('enter the lenght of rectangle: '))#Reads lenght from keyboard \n",
    "breadth = int(input('enter the breadth of rectangle: '))#Reads breadth from keyboard\n",
    "area = lenght*breadth#Computes area\n",
    "print('The area of rectangle is: ',area)#Prints area as output\n"
   ]
  },
  {
   "cell_type": "code",
   "execution_count": 2,
   "metadata": {},
   "outputs": [
    {
     "name": "stdout",
     "output_type": "stream",
     "text": [
      "Enter your name: Saddam\n",
      "Enter your age: 25\n",
      "My name is Saddam and I am 25 years old\n"
     ]
    }
   ],
   "source": [
    "'''A program accepting users name and age as input and \n",
    "   print output as sentence containing user name and age'''\n",
    "name = input('Enter your name: ')#Takes users name from keyboard\n",
    "age = int(input('Enter your age: '))#Takes users age from keyboard\n",
    "print('My name is',name, 'and I am',age,'years old')#Takes input 'name' and 'age' and prints it \n"
   ]
  },
  {
   "cell_type": "code",
   "execution_count": 3,
   "metadata": {},
   "outputs": [
    {
     "name": "stdout",
     "output_type": "stream",
     "text": [
      "Enter the radius of the circle: 5\n",
      "The area of circle is:  78.5\n"
     ]
    }
   ],
   "source": [
    "#A program to compute area of circle\n",
    "radius = int(input('Enter the radius of the circle: '))#Here it takes 'radius' as i/p from keyboard \n",
    "area = 3.14*radius*radius#computes the required caculation\n",
    "print('The area of circle is: ',area)#Prints the area of circle\n"
   ]
  },
  {
   "cell_type": "code",
   "execution_count": 4,
   "metadata": {},
   "outputs": [
    {
     "name": "stdout",
     "output_type": "stream",
     "text": [
      "hello\n",
      "Addtion of two nos 3\n"
     ]
    }
   ],
   "source": [
    "\n",
    "# %load test1.py\n",
    "print(\"hello\")\n",
    "print(\"Addtion of two nos\", 1+2)#'''here we can upload element to spyder by using '%load filename.py' '''\n"
   ]
  },
  {
   "cell_type": "code",
   "execution_count": 5,
   "metadata": {},
   "outputs": [
    {
     "name": "stdout",
     "output_type": "stream",
     "text": [
      "Writing test1.py\n"
     ]
    }
   ],
   "source": [
    "%%writefile test1.py \n",
    "print(\"hello\")\n",
    "print(\"Addtion of two nos\", 1+2)#'''Here we can overwrite content in spyder in jupyter by using '%%writefile test1.py' '''"
   ]
  },
  {
   "cell_type": "code",
   "execution_count": 6,
   "metadata": {},
   "outputs": [
    {
     "name": "stdout",
     "output_type": "stream",
     "text": [
      "<class 'int'>\n",
      "<class 'float'>\n",
      "<class 'int'>\n",
      "141741726010355877021425242397614266850230984328921683301904823759475770823898618248937223189974698092198272832940279328576746286288246412163586040073071625403994235108484654701851813111412522017073436551977468182566355508096008844818770030666259103383549754706584982939339385133685051351671665495459484240707105912956546726469283110832013048361267258779772354758935887424049533897842706489170079845902824088981773992924362039029250020367962086497153391426082783460157920931418912062690190445848693672762290558236738881832546715962674705459956895378670356212279994168084514114818989630510464134483945722383050790176271852886739698177596517655470069835676583069071363091251912629058336230389234503573930897227480759410337695934859367858714793296706039210143078982981706101059862119667407317346718937443597566001\n"
     ]
    }
   ],
   "source": [
    "#knowing what is the type of variable\n",
    "a = 10\n",
    "print(type(a))\n",
    "\n",
    "a = 13.245\n",
    "print(type(a))\n",
    "\n",
    "b = 123456789**100#Long int\n",
    "print(type(b))\n",
    "print(b)"
   ]
  },
  {
   "cell_type": "code",
   "execution_count": 7,
   "metadata": {},
   "outputs": [
    {
     "data": {
      "text/plain": [
       "19"
      ]
     },
     "execution_count": 7,
     "metadata": {},
     "output_type": "execute_result"
    }
   ],
   "source": [
    "#Enetering the expression in another line, use '\\' answer for below program = 3+4+5+4+3 = 19\n",
    "3+4 \\\n",
    "+5 \\\n",
    "+4 \\\n",
    "+3"
   ]
  },
  {
   "cell_type": "code",
   "execution_count": 8,
   "metadata": {},
   "outputs": [
    {
     "name": "stdout",
     "output_type": "stream",
     "text": [
      "enter your salary: 50000\n",
      "Number of dependents: 2\n",
      "Income_tax is:  3800.0\n"
     ]
    }
   ],
   "source": [
    "#Income TAX calculator\n",
    "\n",
    "\"\"\"\n",
    "Compute the income tax for the salary entered by a person.\n",
    "Following are the conditions\n",
    "Tax Rate is fixed at 10%\n",
    "Standard Tax deduction of Rs.10,000\n",
    "For each dependent, a tax payer is allowed additional Rs. 1000 deduction\n",
    "\"\"\"\n",
    "#Initialize the constants\n",
    "\n",
    "TAX_RATE = 0.10\n",
    "TAX_DEDUCTION = 10000\n",
    "DEPENDENT_DEDUCTION = 1000\n",
    "\n",
    "#User input for income and number of dependents\n",
    "\n",
    "salary = float(input('enter your salary: '))\n",
    "dependent = int(input('Number of dependents: '))\n",
    "taxed_amount = salary - TAX_DEDUCTION - (DEPENDENT_DEDUCTION*dependent)\n",
    "income_tax = taxed_amount*TAX_RATE\n",
    "\n",
    "print('Income_tax is: ',income_tax)\n",
    "#Limitations of this is code is income is less than 10,000 then we will get negative income_tax\n",
    "\n"
   ]
  },
  {
   "cell_type": "markdown",
   "metadata": {},
   "source": [
    "1. A video rental shop rents new videos for Rs. 30 a night and oldies for Rs. 20 per night. WAP that can be used by the billing person to calculate the total charge for a customer's video rentals. The program should ask the user fo the number of each type of videa and outpu the total cost."
   ]
  },
  {
   "cell_type": "code",
   "execution_count": 9,
   "metadata": {},
   "outputs": [
    {
     "name": "stdout",
     "output_type": "stream",
     "text": [
      "number of new videos taken: 3\n",
      "no. of days that new video is taken: 5\n",
      "number of new videos taken: 6\n",
      "no. of days that new video is taken: 3\n",
      "total cost occured for new video rental 450\n",
      "total cost occured for old video rental 360\n"
     ]
    }
   ],
   "source": [
    "#Enter the number of new videos to be taken\n",
    "new_video = int(input('number of new videos taken: '))\n",
    "new_video_days = int(input('no. of days that new video is taken: '))\n",
    "cost_new_video = new_video*new_video_days*30 #formula of cost for new videos\n",
    "\n",
    "\n",
    "old_video = int(input('number of new videos taken: '))\n",
    "old_video_days = int(input('no. of days that new video is taken: '))\n",
    "cost_old_video = old_video*old_video_days*20 #formula of cost for new videos\n",
    "\n",
    "print('total cost occured for new video rental',cost_new_video)\n",
    "print('total cost occured for old video rental',cost_old_video)\n"
   ]
  },
  {
   "cell_type": "markdown",
   "metadata": {},
   "source": [
    "2. An employee's total weekly pay equals to hourly wage multiplied by total number of regulra hours plus any overtime pay. Overtime pay equals the total overtime hours multiplied by 1.5 times the hourly wage. Write a program that takes as inputs the hourly wage, total regular hours, and total overtime hours and displays an employee’s total weekly pay."
   ]
  },
  {
   "cell_type": "code",
   "execution_count": 10,
   "metadata": {},
   "outputs": [
    {
     "name": "stdout",
     "output_type": "stream",
     "text": [
      "enter the hourly wages: 5\n",
      "enter the total regular hours worked: 3\n",
      "enter the total overtime hours worked: 2\n",
      "Total weekly pay paid is:  30.0\n"
     ]
    }
   ],
   "source": [
    "hourly_wage = float(input('enter the hourly wages: '))\n",
    "total_regular_hours = float(input('enter the total regular hours worked: '))\n",
    "total_overtime_hours = float(input('enter the total overtime hours worked: '))\n",
    "\n",
    "overtime_pay = total_overtime_hours*(1.5*hourly_wage)\n",
    "\n",
    "total_weekly_pay = hourly_wage*total_regular_hours + overtime_pay\n",
    "print('Total weekly pay paid is: ',total_weekly_pay)"
   ]
  },
  {
   "cell_type": "code",
   "execution_count": 11,
   "metadata": {},
   "outputs": [
    {
     "name": "stdout",
     "output_type": "stream",
     "text": [
      "Enter the number: 3\n",
      "The given number is a positive number:  3\n"
     ]
    }
   ],
   "source": [
    "#If statement\n",
    "#Checking the number is greater than zero or not using if statement\n",
    "no=int(input(\"Enter the number: \"))#Here if statement executes only if-statement satisfies the condition of greater than zero\n",
    "if no>0:                               \n",
    "    print(\"The given number is a positive number: \",no)#If the if statement is not satisfies it doesnt print the print statement\n",
    "    "
   ]
  },
  {
   "cell_type": "code",
   "execution_count": 12,
   "metadata": {},
   "outputs": [
    {
     "name": "stdout",
     "output_type": "stream",
     "text": [
      "Enter the no: 5\n",
      "Positive\n",
      "New no:  6\n",
      "30\n"
     ]
    }
   ],
   "source": [
    "#If-statement\n",
    "no=int(input(\"Enter the no: \"))\n",
    "if no>0:\n",
    "    print(\"Positive\")\n",
    "    no=no+1\n",
    "    print(\"New no: \", no)\n",
    "    \n",
    "p=no*5\n",
    "print(p)"
   ]
  },
  {
   "cell_type": "code",
   "execution_count": 13,
   "metadata": {},
   "outputs": [
    {
     "ename": "IndentationError",
     "evalue": "unexpected indent (<ipython-input-13-4b5399d57438>, line 5)",
     "output_type": "error",
     "traceback": [
      "\u001b[1;36m  File \u001b[1;32m\"<ipython-input-13-4b5399d57438>\"\u001b[1;36m, line \u001b[1;32m5\u001b[0m\n\u001b[1;33m    print(\"New no: \", no)\u001b[0m\n\u001b[1;37m    ^\u001b[0m\n\u001b[1;31mIndentationError\u001b[0m\u001b[1;31m:\u001b[0m unexpected indent\n"
     ]
    }
   ],
   "source": [
    "no=int(input(\"Enter the no: \"))\n",
    "if no>0:\n",
    "    print(\"Positive\")\n",
    "no=no+1#HEre we will get error because once we get a statement as unintendent the if statement assums that the if condition is completed, now again if it gets an intendent statement it gives an error \n",
    "    print(\"New no: \", no)\n",
    "    "
   ]
  },
  {
   "cell_type": "code",
   "execution_count": null,
   "metadata": {},
   "outputs": [],
   "source": [
    "#if-else statement\n",
    "no=int(input('Enter the number: '))\n",
    "if no>0:\n",
    "    print(\"The given number is a positive number: \")\n",
    "else:\n",
    "    print(\"The given number is a negative number: \")\n",
    "\n",
    "print('we got the nature of number')"
   ]
  },
  {
   "cell_type": "code",
   "execution_count": null,
   "metadata": {},
   "outputs": [],
   "source": [
    "#If-else statement\n",
    "no=int(input(\"Enter the no: \"))\n",
    "if no>0:\n",
    "    print(\"Positive\")\n",
    "else:\n",
    "    no=-no#This statement converts negative number into a positive number\n",
    "    print(\"No: \", no)\n",
    "\n",
    "print(\"Code finished\")"
   ]
  },
  {
   "cell_type": "code",
   "execution_count": null,
   "metadata": {},
   "outputs": [],
   "source": [
    "#If-else statement\n",
    "no=int(input('Enter the number: '))\n",
    "if no>0:\n",
    "    print('The number is: ',no)\n",
    "    no=no**no\n",
    "    print('The modified number is: ',no)\n",
    "else:\n",
    "    no=no*-no\n",
    "    print('the else statement number is ',no)\n",
    "    \n",
    "print('code finished')"
   ]
  },
  {
   "attachments": {
    "image.png": {
     "image/png": "[encoded data removed]"
    }
   },
   "cell_type": "markdown",
   "metadata": {},
   "source": [
    "![image.png](attachment:image.png)"
   ]
  },
  {
   "cell_type": "code",
   "execution_count": null,
   "metadata": {},
   "outputs": [],
   "source": [
    "'''Read a number compare the no. with 100 if the no. is equal to 100 multiply by 10 \n",
    "else divide the number by 10 and print the result'''\n",
    "\n",
    "no = int(input('Enter the number: '))\n",
    "if no==100:\n",
    "    n1 = no*10\n",
    "    print('The chaged number is: ',n1)\n",
    "else:\n",
    "    n2 = no/10\n",
    "    print('The changed number is: ',n2)\n",
    "\n",
    "print('The code is finished')"
   ]
  },
  {
   "cell_type": "code",
   "execution_count": null,
   "metadata": {},
   "outputs": [],
   "source": [
    "#If-elif-else statement\n",
    "no = int(input('Enter the number: '))\n",
    "if no>0:\n",
    "    print('The number is a positive number: ')\n",
    "elif no==0:\n",
    "    print('The number is equal to zero')\n",
    "else:\n",
    "    print('The number is a negative number: ')\n",
    "\n",
    "print('code finished')"
   ]
  },
  {
   "cell_type": "code",
   "execution_count": null,
   "metadata": {},
   "outputs": [],
   "source": [
    "'''#WAP print the Grades of the student\n",
    "A: Marks >90\n",
    "B: Marks between 80-90\n",
    "C: 70-80\n",
    "F:<70'''\n",
    "\n",
    "mark = int(input('Enter your marks: '))\n",
    "if mark>90:\n",
    "    print('The grade of a student is: A')\n",
    "elif mark>=80:\n",
    "    print('The grade of a student is: B')\n",
    "elif mark>=70:\n",
    "    print('The grade of a student is: C')\n",
    "else:\n",
    "    print('The grade of a student is: F')"
   ]
  },
  {
   "cell_type": "code",
   "execution_count": null,
   "metadata": {},
   "outputs": [],
   "source": [
    "#Input to enter the marks between 0-50 using OR statement\n",
    "marks=int(input(\"Enter the marks: \"))\n",
    "if marks<0 or marks>50:\n",
    "    print(\"Invalid Input\")\n",
    "else:\n",
    "    print(\"Valid Input\")"
   ]
  },
  {
   "cell_type": "code",
   "execution_count": null,
   "metadata": {},
   "outputs": [],
   "source": [
    "#Input to enter the marks between 0-50 using AND Statement\n",
    "marks=int(input(\"Enter the marks: \"))\n",
    "if marks>0 and marks<=50: # Put or and try\n",
    "    print(\"Valid input\")\n",
    "else: \n",
    "    print(\"Invalid input\")\n",
    "    "
   ]
  },
  {
   "cell_type": "code",
   "execution_count": null,
   "metadata": {},
   "outputs": [],
   "source": [
    "#Logical Operator OR\n",
    "#WAP to check grades of a student\n",
    "mark = int(input('Enter your marks: '))\n",
    "if mark>90:\n",
    "    print('Grade A')\n",
    "elif mark>80 or mark<=90:#HEre the issue is or statement takes only if one condition satisfies it takes and prints and hence 1st elif excutes whatever number is leess than 90\n",
    "    print((\"Grade B\"))\n",
    "elif mark>70 or mark<=80:\n",
    "    print((\"Grade C\"))\n",
    "else:\n",
    "    print((\"Grade F\"))"
   ]
  },
  {
   "cell_type": "code",
   "execution_count": null,
   "metadata": {},
   "outputs": [],
   "source": [
    "#Logival Operator AND\n",
    "#WAP to check grades of a student\n",
    "mark = int(input('Enter your marks: '))\n",
    "if mark>90 and mark<=100:\n",
    "    print('Grade A')\n",
    "elif mark>80 and mark<=90:\n",
    "    print('Grade B')\n",
    "elif mark>70 and mark<=80:\n",
    "    print('Grade C')\n",
    "else:\n",
    "    print('Grade F')"
   ]
  },
  {
   "cell_type": "code",
   "execution_count": null,
   "metadata": {},
   "outputs": [],
   "source": [
    "#If-Else in If part\n",
    "#WAP to check grades of a student\n",
    "mark = int(input('Enter your marks: '))\n",
    "if mark>0 and mark<=100:\n",
    "    if mark>90 and mark<=100:\n",
    "        print('Grade A')\n",
    "    elif mark>80 and mark<=90:\n",
    "        print('Grade B')\n",
    "    elif mark>70 and mark<=80:\n",
    "        print('Grade C')\n",
    "    else:\n",
    "        print('Grade F')\n",
    "else:\n",
    "    print('Invalid input')\n",
    "    "
   ]
  },
  {
   "cell_type": "code",
   "execution_count": null,
   "metadata": {},
   "outputs": [],
   "source": [
    "#If-else in Else part\n",
    "#WAP to check grades of a student\n",
    "marks=int(input(\"Enter the marks: \"))\n",
    "if marks<0 or marks>100:\n",
    "    print(\"Invalid Input\")\n",
    "else:\n",
    "    if marks>90 and marks<=100:\n",
    "        print(\"Grade A\")\n",
    "    elif marks>80 and marks<=90:\n",
    "        print(\"Grade B\")\n",
    "    elif marks>70 and marks<=80:\n",
    "        print(\"Grade C\")\n",
    "    else:\n",
    "        print(\"Grade F\")"
   ]
  },
  {
   "cell_type": "code",
   "execution_count": null,
   "metadata": {},
   "outputs": [],
   "source": [
    "'''WAP that accepts the lengths of three sides of a triangle as inputs. \n",
    "The program output should indicate whether or not the triangle is an equilateral, isosceles or scalene triangle'''\n",
    "\n",
    "side1 = int(input(\"Enter the side1 of a triangle: \"))\n",
    "side2 = int(input(\"Enter the side2 of a trangle: \"))\n",
    "side3 = int(input(\"Enter the side13 of a triangle: \"))\n",
    "\n",
    "if side1>0 and side2>0 and side3>0:\n",
    "    if side1==side2==side3:\n",
    "        print('Equilateral triangle')\n",
    "    elif side1==side2 or side2==side3 or side3==side1:\n",
    "        print('Isosceles Triangle')\n",
    "    else:\n",
    "        print('Scalar triangle')\n",
    "else:\n",
    "    print('Invalid input')\n",
    "\n",
    "\n",
    "\n"
   ]
  },
  {
   "cell_type": "code",
   "execution_count": null,
   "metadata": {},
   "outputs": [],
   "source": [
    "#Reading alphabets and check whether it is vowel or consonent\n",
    "letter= input('Enter the letter: ')\n",
    "if letter == 'a' or letter == 'e' or letter == 'i' or letter == 'o' or letter == 'u' :\n",
    "    print('The letter is Vowel: ')\n",
    "else:\n",
    "    print('The letter is consonant\" ')"
   ]
  },
  {
   "cell_type": "code",
   "execution_count": null,
   "metadata": {},
   "outputs": [],
   "source": [
    "#Reading alphabets and check whether it is vowel or consonent by using in operator\n",
    "letter = input('Enter the letter: ')\n",
    "if letter in ('a','e','i','o','u','A','E','I','O','U'):\n",
    "    print('The letter is Vowel: ')\n",
    "else:\n",
    "    print('The letter is Consonant: ')"
   ]
  },
  {
   "cell_type": "code",
   "execution_count": null,
   "metadata": {},
   "outputs": [],
   "source": [
    "#Write a program to read a month and print the season\n",
    "\n",
    "month = input('Enter the season: ')\n",
    "if month in ('March','April','May'):\n",
    "    print('Spring Season')\n",
    "elif month in ('June','July','August'):\n",
    "    print('Summer Season')\n",
    "elif month in ('September','October','November'):\n",
    "    print('Autumn Season')\n",
    "else:\n",
    "    print('Winter Season')"
   ]
  },
  {
   "cell_type": "code",
   "execution_count": null,
   "metadata": {},
   "outputs": [],
   "source": [
    "#for loop\n",
    "for  count in range(2):\n",
    "    print('*')\n",
    "\n",
    "print('next for loop')\n",
    "for  count in range(5):\n",
    "    print(\"*\", end=\" \")\n",
    "    \n"
   ]
  },
  {
   "cell_type": "code",
   "execution_count": null,
   "metadata": {},
   "outputs": [],
   "source": [
    "for name in range(10):\n",
    "    print('Iron-Man')"
   ]
  },
  {
   "cell_type": "code",
   "execution_count": null,
   "metadata": {},
   "outputs": [],
   "source": [
    "i=int(input(\"Enter the number: \"))#PRinting the character in number of times entered\n",
    "for x in range(i):\n",
    "  print(\"*\") "
   ]
  },
  {
   "cell_type": "code",
   "execution_count": null,
   "metadata": {},
   "outputs": [],
   "source": [
    "for count in range(5):#Printing iron 5 times\n",
    "    print('iron')"
   ]
  },
  {
   "cell_type": "code",
   "execution_count": null,
   "metadata": {},
   "outputs": [],
   "source": [
    "for  count in range(2,10):#For loop starting from 2\n",
    "    print(count)"
   ]
  },
  {
   "cell_type": "code",
   "execution_count": null,
   "metadata": {},
   "outputs": [],
   "source": [
    "for  count in range(2,21,2):#Gives all the even numbers from 2 to 20\n",
    "    print(count)"
   ]
  },
  {
   "cell_type": "code",
   "execution_count": null,
   "metadata": {},
   "outputs": [],
   "source": [
    "for  count in range(10,2,-1):#For loop starting from 10 and decrementing\n",
    "    print(count)"
   ]
  },
  {
   "cell_type": "code",
   "execution_count": null,
   "metadata": {},
   "outputs": [],
   "source": [
    "for j in range (10,2,-2):\n",
    "    print (j, end=\" \")#The 'end=\" \"' is used to print in single line"
   ]
  },
  {
   "cell_type": "code",
   "execution_count": null,
   "metadata": {},
   "outputs": [],
   "source": [
    "a=input('name: ')\n",
    "for count in range(10):\n",
    "    print(a)"
   ]
  },
  {
   "cell_type": "code",
   "execution_count": null,
   "metadata": {},
   "outputs": [],
   "source": [
    "#Factorial program\n",
    "number=int(input(\"Enter the no: \"))#Reads the no. from keyboard\n",
    "product=1\n",
    "for count in range(number): \n",
    "    product=product*(count+1) #This is done in forward way\n",
    "    \n",
    "print(\"Factorial is: \", product)"
   ]
  },
  {
   "cell_type": "code",
   "execution_count": null,
   "metadata": {},
   "outputs": [],
   "source": [
    "number=int(input(\"Enter the no: \"))#Reads the no. from keyboard\n",
    "product=1\n",
    "for count in range(1,number+1):\n",
    "    product=product*(count)\n",
    "    \n",
    "print(\"Factorial is: \", product)"
   ]
  },
  {
   "cell_type": "code",
   "execution_count": null,
   "metadata": {},
   "outputs": [],
   "source": [
    "'''Print the Sum of the numbers between two values example if a = 2 and b = 5 sum = 2+3+4+5'''\n",
    "a = int(input('Enter the first number'))#Reading the 1st number\n",
    "b = int(input('Enter the second number'))#Reading the 2nd number\n",
    "c = 0 #Inputing the 3rd variable\n",
    "for i in range(a,b+1): #Specifying the range\n",
    "    c = c+i #making the loop to repeat until for loop completes\n",
    "    print(i) #printing the loope statements numbers\n",
    "print('Sum of numbers is: ',c) #printing the Total sum"
   ]
  },
  {
   "cell_type": "code",
   "execution_count": null,
   "metadata": {},
   "outputs": [],
   "source": [
    "no=[23,34,56,78.56] # list\n",
    "sum=0\n",
    "for i in no: \n",
    "    sum=sum+i\n",
    "    \n",
    "print(sum)"
   ]
  },
  {
   "cell_type": "code",
   "execution_count": null,
   "metadata": {},
   "outputs": [],
   "source": [
    "friends=[\"abc\", \"def\", \"mno\"] \n",
    "for i in friends:\n",
    "    \n",
    "    print(\"Hi \"+ i)\n"
   ]
  },
  {
   "cell_type": "code",
   "execution_count": null,
   "metadata": {},
   "outputs": [],
   "source": [
    "friends=[\"abc\", \"def\", \"mno\"] \n",
    "for i in friends:\n",
    "    \n",
    "    print(\"Hi \"+ i)"
   ]
  },
  {
   "cell_type": "code",
   "execution_count": null,
   "metadata": {},
   "outputs": [],
   "source": [
    " for i in 'Good Morining':\n",
    "    \n",
    "    print(i)"
   ]
  },
  {
   "cell_type": "code",
   "execution_count": null,
   "metadata": {},
   "outputs": [],
   "source": [
    "nos=[1,3,56,78,23]#Gives the list of inputs\n",
    "no=int(input(\"Enter the no to search :\"))#reads input from user\n",
    "for i in nos: #Checks the condition\n",
    "    if i==no:\n",
    "        print(\"found\")\n",
    "        break\n",
    "else:\n",
    "    print('Not found')"
   ]
  },
  {
   "cell_type": "code",
   "execution_count": null,
   "metadata": {},
   "outputs": [],
   "source": [
    "# Use of Break Statement \n",
    "# USe of Boolean variable to find a number in the list True, False\n",
    "p=[1,2,3]\n",
    "st=True\n",
    "no=int(input(\"Enter the no \")) \n",
    "for i in p:\n",
    "    if i==no:\n",
    "       #print(no)\n",
    "        st=False \n",
    "        break\n",
    "    \n",
    "        #print(st)          \n",
    "if st!=True: \n",
    "    print(\"Nuner  found\")\n",
    "else:\n",
    "    print(\"Number not found\")"
   ]
  },
  {
   "cell_type": "code",
   "execution_count": null,
   "metadata": {},
   "outputs": [],
   "source": [
    "#WAP to display vowels of a word given by the user\n",
    "\n",
    "word = input('Enter the word or sentence: ')\n",
    "vowels = 0\n",
    "consonants = 0\n",
    "\n",
    "for i in word:\n",
    "    if i in ('a','e','i','o','u','A','E','I','O','U'):\n",
    "    #if i=='a' or i=='e' or i=='i' or i=='o' or i=='u' or \\\n",
    "    #i=='A' or i=='E' or i=='I' or i=='O' or i=='U':\n",
    "        vowels+=1\n",
    "    else:\n",
    "        consonants+=1\n",
    "        \n",
    "print('vowels in the given word or sentence are: ', vowels) \n",
    "print('consonants in the given word or sentence are: ', consonants)\n"
   ]
  },
  {
   "cell_type": "code",
   "execution_count": null,
   "metadata": {},
   "outputs": [],
   "source": [
    "#While loop\n",
    "m=3 # Loop control variable\n",
    "while m<=5:#Iterates until the condition satisfies\n",
    "    print(m)#prints the output\n",
    "    m=m+1# if u keep this m=m+1 as comment and execute the program will execute in infinite loop"
   ]
  },
  {
   "cell_type": "code",
   "execution_count": null,
   "metadata": {},
   "outputs": [],
   "source": [
    "#Infinite while loop\n",
    "m = 5\n",
    "while m!=1: #checks the while loop\n",
    "    print(m) #prints the m value\n",
    "    m=m-1 #decrements the m value\n",
    "print('done')"
   ]
  },
  {
   "cell_type": "code",
   "execution_count": null,
   "metadata": {},
   "outputs": [],
   "source": [
    "'''wap to read a number and calculate sum until that number like if u read 10 u should add all the numbers from 1 to 10'''\n",
    "n=int(input('enter the number: '))\n",
    "m=1 #Assigns the constant m with 1\n",
    "sum=0 #Assigns the constant sum with 0\n",
    "while n>=m: #loop contoinues until if n>=m or not\n",
    "    sum = sum+m #updates sum value \n",
    "    m = m+1 #increaments the constant m\n",
    "print('The sum of the numbers in between is: ',sum)\n",
    "\n",
    "\n",
    "    \n",
    "    "
   ]
  },
  {
   "cell_type": "code",
   "execution_count": null,
   "metadata": {},
   "outputs": [],
   "source": [
    "n=int(input('enter the number: '))\n",
    "sum=0 \n",
    "for i in range(1,n+1):\n",
    "    sum = sum+i\n",
    "print(sum)"
   ]
  },
  {
   "cell_type": "code",
   "execution_count": null,
   "metadata": {},
   "outputs": [],
   "source": [
    "m=3 # Loop control variable\n",
    "while m==5:\n",
    "   \n",
    "\n",
    "    print(m)\n",
    "     \n",
    "   # m=m+1"
   ]
  },
  {
   "cell_type": "code",
   "execution_count": null,
   "metadata": {},
   "outputs": [],
   "source": [
    "#Formatting\n",
    "\n",
    "'''s- String\n",
    "d- integer\n",
    "f- float'''\n",
    "\n",
    "'''Here it allots specific number of columns'''\n",
    "#Formatiing string type\n",
    "print(\"%6s\" %\"four\") # right justified means as here it created a 6 columns and the allotment starts from right most column\n",
    "print(\"%-6s\" % \"four\") # left justified means as here it created a 6 columns and the allotment starts from left most column"
   ]
  },
  {
   "cell_type": "code",
   "execution_count": null,
   "metadata": {},
   "outputs": [],
   "source": [
    "#Formatiing integer type\n",
    "print(\"%-6d\" % 100 )\n",
    "print(\"%8d\" % 100 )"
   ]
  },
  {
   "cell_type": "code",
   "execution_count": null,
   "metadata": {},
   "outputs": [],
   "source": [
    "#Formatting float type\n",
    "salary=float(input(\"Enter the salary: \"))\n",
    "print(\"%4.2f\"%salary)"
   ]
  },
  {
   "cell_type": "code",
   "execution_count": null,
   "metadata": {},
   "outputs": [],
   "source": [
    "for i in range(7,11): \n",
    "    print(\"%-3d%12d\" %(i,10**i))\n"
   ]
  },
  {
   "cell_type": "markdown",
   "metadata": {},
   "source": [
    "# WAP that gives the investment report as below\n",
    "## The input to the program are:\n",
    "    ### 1. Initial amount being invested (Floating point)\n",
    "    ### 2. Number of years (integer)\n",
    "    ### 3. Interest rate (percentage expressed as an integer)\n",
    "### The program uses compound interest to compute the interest at the end of each year."
   ]
  },
  {
   "cell_type": "code",
   "execution_count": null,
   "metadata": {},
   "outputs": [],
   "source": [
    "# Program for above problem\n",
    "# Accept the inputs from the user\n",
    "starting_balance = float(input('enter the starting balance: '))\n",
    "years = int(input(\"enter the duration: \"))\n",
    "rate = float(input('Enter the interest rate: '))\n",
    "\n",
    "# Convert the rate to a decimal number\n",
    "rate = rate/100.0\n",
    "\n",
    "# Initialize the accumulator for the interest\n",
    "total_interest = 0.0\n",
    "\n",
    "# Display the header for the table\n",
    "print(\"%5s%18s%10s%16s\" % (\"Year\",\"Starting Balance\",\"Interest\",\"Ending Balance\"))\n",
    "\n",
    "# Compute and display the results for each year\n",
    "for i in range(1,years+1):\n",
    "    interest = starting_balance*rate\n",
    "    ending_balance = starting_balance+interest\n",
    "    print(\"%3d%15d%12d%15d\" % (i,starting_balance,interest,ending_balance))\n",
    "    starting_balance = ending_balance\n",
    "    total_interest += interest\n",
    "\n",
    "# Display the totals for the period\n",
    "print(\"The Ending balance for \", i, \"years is %0.2f \" % ending_balance )\n",
    "print(\"The Total interest for \", i, \"years is %0.2f \" % total_interest )"
   ]
  },
  {
   "cell_type": "code",
   "execution_count": null,
   "metadata": {},
   "outputs": [],
   "source": [
    "#WAP to print table of any number\n",
    "n = int(input('enter the number until where u want the multiple: '))\n",
    "a = int(input('enter the number which you want the multiple: '))\n",
    "c= 0\n",
    "print(\"%-6s%4s%10s%3s%7s\" % ('Number','*','Multiple','=','result') )\n",
    "\n",
    "for i in range(1,n+1):\n",
    "    c = a*i\n",
    "    print(\"%-3d%7s%9d%4s%5d\" % (a,\"*\",i,\"=\",c))\n",
    "print('Table finished')"
   ]
  },
  {
   "cell_type": "markdown",
   "metadata": {},
   "source": [
    "Unlike an integer that cannot be broken into more primitive parts, a string is a DATA STRUCTURE. A DS is a compound unit that caonsists of several smaller pieces of data. A string is a sequence of zero or more characters.\n",
    "String is immutable data struncture. Its internal data elements(characters) can be ccessed but the structure itself cannot be modified."
   ]
  },
  {
   "cell_type": "code",
   "execution_count": null,
   "metadata": {},
   "outputs": [],
   "source": [
    "# reading individual characters of the string\n",
    "fruit='pineapple'\n",
    "print(fruit[6]) # subscript operator.\n",
    "# show index out of range error.\n",
    "#print(fruit[6])\n",
    "# find length of string\n",
    "print(len(fruit))\n",
    "i=len(fruit)\n",
    "print(i)\n"
   ]
  },
  {
   "cell_type": "code",
   "execution_count": null,
   "metadata": {},
   "outputs": [],
   "source": [
    "fruit='pine'\n",
    "for i in fruit:\n",
    "    print(i)\n",
    "    \n",
    "fruit = 'apple'\n",
    "for i in range(len(fruit)):\n",
    "    print(fruit[i])"
   ]
  },
  {
   "cell_type": "code",
   "execution_count": null,
   "metadata": {},
   "outputs": [],
   "source": [
    "#List: List is a data structure by which we can store many types of data in a single variable\n",
    "#creating a list\n",
    "p = [1,2,3]\n",
    "fruits = ['apple','banana','cherry',1,2,3,p]\n",
    "print(fruits)\n",
    "print(fruits[6])"
   ]
  },
  {
   "cell_type": "code",
   "execution_count": null,
   "metadata": {},
   "outputs": [],
   "source": [
    "#creating a list\n",
    "p = [1,2,3]\n",
    "fruits = ['apple','banana','cherry',1,2,3,p]\n",
    "print(fruits)\n",
    "#print(fruits[6])\n",
    "\n",
    "for f in fruits:\n",
    "    print(f)"
   ]
  },
  {
   "cell_type": "code",
   "execution_count": null,
   "metadata": {},
   "outputs": [],
   "source": [
    "#mutable means we can replce the elements of the list. saying that list are mutable\n",
    "nos = [1,2,3,4,5]\n",
    "print(nos)\n",
    "\n",
    "#changing the value of the list\n",
    "nos[1] = 100\n",
    "print(nos)\n"
   ]
  },
  {
   "cell_type": "code",
   "execution_count": null,
   "metadata": {},
   "outputs": [],
   "source": [
    "#replacing each value of the list with its square\n",
    "# Replacing each value of the list with its square\n",
    "numbers=[2,3,4]\n",
    "index=0\n",
    "while index < len(numbers):\n",
    "    numbers[index]=numbers[index]**2\n",
    "    index+=1\n",
    "print(numbers)\n",
    "print(index)"
   ]
  },
  {
   "cell_type": "code",
   "execution_count": null,
   "metadata": {},
   "outputs": [],
   "source": [
    "nos1=[1,2,3,4,5]\n",
    "l=len(nos1)\n",
    "for i in range (0,l):\n",
    "    nos1[i]=nos1[i] * nos1[i]\n",
    "print(nos1)"
   ]
  },
  {
   "cell_type": "code",
   "execution_count": null,
   "metadata": {},
   "outputs": [],
   "source": [
    "nos = [1,2,3,4,5]\n",
    "print(nos[-5])\n",
    "print(nos[-1])"
   ]
  },
  {
   "cell_type": "code",
   "execution_count": null,
   "metadata": {},
   "outputs": [],
   "source": [
    "#Using the range function\n",
    "names=['abc', 'mpo', 'xyz']\n",
    "p=len(names)\n",
    "print(p)\n",
    "for i in range(len(names)):\n",
    "    print(\"happy birthday \", names[i])"
   ]
  },
  {
   "cell_type": "code",
   "execution_count": null,
   "metadata": {},
   "outputs": [],
   "source": [
    "#removing the element from the list\n",
    "\n",
    "name = ['abc','bcd','efg']\n",
    "print(name)\n",
    "name.remove(name[0])#here it removes 'abc'\n",
    "print(name)\n",
    "name.remove('bcd')#here it removes 'bcd'\n",
    "print(name)"
   ]
  },
  {
   "cell_type": "code",
   "execution_count": null,
   "metadata": {},
   "outputs": [],
   "source": [
    "#removing the element from the list\n",
    "\n",
    "name = ['abc','bcd','efg']\n",
    "print(name)\n",
    "i = input('print enter the element: ')\n",
    "name.remove(i)\n",
    "print(name)"
   ]
  },
  {
   "cell_type": "code",
   "execution_count": null,
   "metadata": {},
   "outputs": [],
   "source": [
    "#Changing the words of a sentence to upper case and sorting in a list\n",
    "\n",
    "sentence=input(\"Enter the sentence: \")\n",
    "words=sentence.split()\n",
    "print(words)\n",
    "index=0\n",
    "while index< len(words):\n",
    "    words[index]=words[index].upper()\n",
    "    index+=1\n",
    "print(words)"
   ]
  },
  {
   "cell_type": "code",
   "execution_count": null,
   "metadata": {},
   "outputs": [],
   "source": [
    "# Slicing the list \n",
    "names=['tr','mn','er']\n",
    "print(names[:])\n",
    "print(names[0:2])"
   ]
  },
  {
   "cell_type": "code",
   "execution_count": null,
   "metadata": {},
   "outputs": [],
   "source": [
    "# Adding the list (concate)\n",
    "a=[1,2,3,4]\n",
    "b=[7,8,9,10]\n",
    "c=a+b\n",
    "print(c)"
   ]
  },
  {
   "cell_type": "code",
   "execution_count": null,
   "metadata": {},
   "outputs": [],
   "source": [
    "#Making the use of append() function\n",
    "#append function as one item at the end of the list\n",
    "fruits=[\"mango\",\"apple\",\"pineapple\"]\n",
    "print(fruits)\n",
    "fruits.append(\"pear\")\n",
    "print(fruits)\n"
   ]
  },
  {
   "cell_type": "code",
   "execution_count": null,
   "metadata": {},
   "outputs": [],
   "source": [
    "#creating a list from scratch\n",
    "item=list()#This is same to 'item = []'\n",
    "item=[]#This is same to 'item = list()'\n",
    "n=input(\"Enter the number of items: \")\n",
    "i=0\n",
    "while i < int(n):\n",
    "    name=input(\"Enter item name: \")\n",
    "   \n",
    "    item.append(name)\n",
    "    i=i+1\n",
    "    \n",
    "print(item)\n",
    "# Sorting and printing the list\n",
    "item.sort()#Sorts in ascending order\n",
    "print(item)\n",
    "\n",
    "item.sort(reverse = True)#Sorts in descending order\n",
    "print(item)"
   ]
  },
  {
   "cell_type": "code",
   "execution_count": null,
   "metadata": {},
   "outputs": [],
   "source": [
    "#Use of insert()\n",
    "fruits = ['apples','bananas','cherry']\n",
    "print(fruits)\n",
    "fruits.insert(1,'orange')\n",
    "print(fruits)"
   ]
  },
  {
   "cell_type": "code",
   "execution_count": null,
   "metadata": {},
   "outputs": [],
   "source": [
    "#use of del()\n",
    "#Removes the element in the specific location\n",
    "myList = [1,2,3,4,5]\n",
    "del myList[2]\n",
    "print(myList)"
   ]
  },
  {
   "cell_type": "code",
   "execution_count": null,
   "metadata": {},
   "outputs": [],
   "source": [
    "#use of pop()\n",
    "#pop returns what is deleted from the list the deleted value from the list whereas delete doesnt return any value\n",
    "myList = [1,2,3,4,5]\n",
    "p = myList.pop(1)\n",
    "print(myList)\n",
    "print(p)"
   ]
  },
  {
   "cell_type": "code",
   "execution_count": null,
   "metadata": {},
   "outputs": [],
   "source": [
    "#creating a list from the elements popped\n",
    "nls=[]\n",
    "myList = [4, 3, 5] \n",
    "p=myList.pop(1) \n",
    "nls.append(p)\n",
    "print(p)\n",
    "print(myList)\n",
    "print(nls)"
   ]
  },
  {
   "cell_type": "code",
   "execution_count": null,
   "metadata": {},
   "outputs": [],
   "source": [
    "# Creating a list of same items\n",
    "temp=[]\n",
    "#temp=list()\n",
    "temp=[\"hi\"]*4\n",
    "print(temp)"
   ]
  },
  {
   "cell_type": "code",
   "execution_count": null,
   "metadata": {},
   "outputs": [],
   "source": [
    "#Aliasing -> this is not a good way of creating a copy of the list\n",
    "first=[10,20,30]\n",
    "second = first\n",
    "print (first)\n",
    "print (second)\n",
    "\n",
    "#Changing in the value of first\n",
    "first[1] = 100\n",
    "print(first)\n",
    "print(second)"
   ]
  },
  {
   "cell_type": "code",
   "execution_count": null,
   "metadata": {},
   "outputs": [],
   "source": [
    "#Another way of copying the list\n",
    "third = []\n",
    "first=[10,20,30]\n",
    "for i in first:\n",
    "    third.append(i)\n",
    "print(third)\n",
    "\n",
    "#Changing in the value of first\n",
    "first[1] = 100\n",
    "print(first)\n",
    "print(third)\n",
    "\n"
   ]
  },
  {
   "cell_type": "code",
   "execution_count": null,
   "metadata": {},
   "outputs": [],
   "source": [
    "# Another way to copy list\n",
    "third=first[:]\n",
    "first[2]=500\n",
    "print(first)\n",
    "print(third)"
   ]
  },
  {
   "cell_type": "code",
   "execution_count": null,
   "metadata": {},
   "outputs": [],
   "source": [
    "# Create a list of even nos.\n",
    "n = int(input('enter the lenght: '))\n",
    "lst = []\n",
    "for i in range(1,n+1):\n",
    "    lst.append(i*2)\n",
    "print(lst)\n",
    "    "
   ]
  },
  {
   "cell_type": "code",
   "execution_count": null,
   "metadata": {},
   "outputs": [],
   "source": [
    "# Create a list of even nos. other way\n",
    "n= int(input(\"Enter numbers: \"))\n",
    "a=2\n",
    "item=list()\n",
    "for i in range(n):\n",
    "    item.append(a)\n",
    "    a=a+2\n",
    "print(item)"
   ]
  },
  {
   "cell_type": "code",
   "execution_count": null,
   "metadata": {},
   "outputs": [],
   "source": [
    "# List comprehension for the code above.\n",
    "#[expression for item in list]\n",
    "n= int(input(\"Enter numbers: \"))\n",
    "even=[]\n",
    "even=[i*2 for i in range(1,n+1)]\n",
    " \n",
    "print(even)"
   ]
  },
  {
   "cell_type": "code",
   "execution_count": null,
   "metadata": {},
   "outputs": [],
   "source": [
    "# List comprehension for the code above.\n",
    "#[expression for item in list]\n",
    "n= int(input(\"Enter numbers: \"))\n",
    "even=[]\n",
    "even=[i for i in range(1,n+1) if i%2==0]\n",
    " \n",
    "print(even)"
   ]
  },
  {
   "cell_type": "code",
   "execution_count": null,
   "metadata": {},
   "outputs": [],
   "source": [
    "#use of Built in functions in the list, min,max,sum,avg\n",
    "lst = [1,2,3,4,5,6,7,8]\n",
    "print('Maximum: ', max(lst))\n",
    "print('Minimum: ', min(lst))\n",
    "print('Sum: ', sum(lst))\n",
    "print('Average: ', sum(lst)/len(lst))"
   ]
  },
  {
   "cell_type": "code",
   "execution_count": null,
   "metadata": {},
   "outputs": [],
   "source": [
    "nos=[]\n",
    "while True:\n",
    "    inp=input(\"Enter the name: \")\n",
    "    if inp == \"done\": \n",
    "        break\n",
    "    nos.append(inp)\n",
    "    \n",
    "print(nos)\n"
   ]
  },
  {
   "cell_type": "code",
   "execution_count": null,
   "metadata": {},
   "outputs": [],
   "source": [
    "'''WAP to print sum, average, smallest, largest element of a list'''\n",
    "lst = [2,6,4,7,3]\n",
    "sum1 = 0\n",
    "for i in range(0,len(lst)):\n",
    "    sum1 = sum1+lst[i]\n",
    "    avg = sum1/len(lst)\n",
    "    \n",
    "print('The sum of all numbers in the list: ',sum1)\n",
    "print('The average of all numbers in the list: ',avg)\n",
    "print('The minimum number of the list: ',min(lst))\n",
    "print('The maximum number of the list: ',max(lst))"
   ]
  },
  {
   "cell_type": "code",
   "execution_count": null,
   "metadata": {},
   "outputs": [],
   "source": [
    "'''WAP to read n elements from the list split the list into two halves \n",
    "and store the elements in two different list'''\n",
    "lst1 = []\n",
    "data1 = int(input('enter the range of the list: '))\n",
    "for i in range(0,data1):\n",
    "    num = int(input())\n",
    "    lst1.append(num)\n",
    "print('The elements in the list are: ',lst1)\n",
    "a = lst1[:len(lst1)//2]#dividing the list\n",
    "b = lst1[len(lst1)//2:]#dividing the list\n",
    "print('The first half of the list is: ',a)\n",
    "print('The second half of the list is: ',b)"
   ]
  },
  {
   "cell_type": "code",
   "execution_count": null,
   "metadata": {},
   "outputs": [],
   "source": [
    "'''Given a List in python and a number x, count number of occurance of number x in the given list'''\n",
    "lst = ['a','John',1,'d',1,'c']\n",
    "lst.count(1)"
   ]
  },
  {
   "cell_type": "code",
   "execution_count": null,
   "metadata": {},
   "outputs": [],
   "source": [
    "'''WAP to remove all the occurance of an element from the list\n",
    "input = [1,2,3,1,1,4,5,6,7,1,2,7]\n",
    "output = [1,2,3,4,5,6,7]'''\n",
    "n = [1,2,3,1,1,4,5,6,7,1,2,7]\n",
    "mylist = list(dict.fromkeys(n))\n",
    "print(mylist)"
   ]
  },
  {
   "cell_type": "code",
   "execution_count": null,
   "metadata": {},
   "outputs": [],
   "source": [
    "'''Create two lists. The first list stores the id number of the student and the second\n",
    "list stores the name of the student. Create a dictionary from these two list where\n",
    "the key is the id number of the student and the value is the name of the student.\n",
    "Once the dictionary is created\n",
    "Sort it according to the id numbers.\n",
    "Sort it in ascending order of the names.'''\n",
    "\n",
    "list1=[1,2,3]\n",
    "list2=['abc', 'bcd','def']\n",
    "dict={}\n",
    "\n",
    "if (len(list1)!=len(list2)):\n",
    "    print(\"list is not matching\")\n",
    "\n",
    "else:\n",
    "    i=0\n",
    "    while(i<len(list1)):\n",
    "        dict.update({list1[i]:list2[i]})\n",
    "        i+=1\n",
    "print(dict)"
   ]
  },
  {
   "cell_type": "code",
   "execution_count": null,
   "metadata": {},
   "outputs": [],
   "source": [
    "#Same above questin in different way\\\n",
    "\n",
    "id = [10,11,12,13]\n",
    "name = ['ab','bc','cd','de']\n",
    "\n",
    "res = {}\n",
    "if len(id) == len(name):\n",
    "    for i in range(len(id)):\n",
    "        res[id[i]] = name[i]\n",
    "    print(res)\n",
    "\n",
    "else:\n",
    "    print('Please enter equal no of keys and name')"
   ]
  },
  {
   "cell_type": "code",
   "execution_count": null,
   "metadata": {},
   "outputs": [],
   "source": [
    "p=['a','b','c']\n",
    "p+='de'\n",
    "print(p)"
   ]
  },
  {
   "cell_type": "code",
   "execution_count": null,
   "metadata": {},
   "outputs": [],
   "source": [
    "print(list(range(10, 2, -1)))"
   ]
  },
  {
   "cell_type": "code",
   "execution_count": null,
   "metadata": {},
   "outputs": [],
   "source": [
    "var = \"james\" *2*3\n",
    "print(var)"
   ]
  },
  {
   "cell_type": "code",
   "execution_count": null,
   "metadata": {},
   "outputs": [],
   "source": [
    "list1 = ['asd','sdfsd','sdfsdcsd']\n",
    "print(max(list1))"
   ]
  },
  {
   "cell_type": "code",
   "execution_count": null,
   "metadata": {},
   "outputs": [],
   "source": [
    "list1 = [\"PYnative\",[4,8,12,16]]\n",
    "print(list1[0][1])\n",
    "print(list1[1][3])\n"
   ]
  },
  {
   "cell_type": "code",
   "execution_count": null,
   "metadata": {},
   "outputs": [],
   "source": [
    "list1 = ['sd','rdf','gg','ff','yf','uf','ifv']\n",
    "print(list1[-4:-1])"
   ]
  },
  {
   "cell_type": "code",
   "execution_count": null,
   "metadata": {},
   "outputs": [],
   "source": [
    "a='''as sdcsd'''\n",
    "print(a)"
   ]
  },
  {
   "cell_type": "code",
   "execution_count": null,
   "metadata": {},
   "outputs": [],
   "source": []
  }
 ],
 "metadata": {
  "kernelspec": {
   "display_name": "Python 3",
   "language": "python",
   "name": "python3"
  },
  "language_info": {
   "codemirror_mode": {
    "name": "ipython",
    "version": 3
   },
   "file_extension": ".py",
   "mimetype": "text/x-python",
   "name": "python",
   "nbconvert_exporter": "python",
   "pygments_lexer": "ipython3",
   "version": "3.8.8"
  }
 },
 "nbformat": 4,
 "nbformat_minor": 4
}
