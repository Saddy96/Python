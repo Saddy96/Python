{
 "cells": [
  {
   "cell_type": "markdown",
   "metadata": {},
   "source": [
    "A user wanted to recharge his/her mobile phone. He/she wanted too check what all packs which are avaiable for them provided by their service provider. Based on the requirement he/she will chose the best suited pack for them.\n",
    " \n",
    "It will ask for the user to enter which service provider they belong to.\n",
    "Then it will show all the available packs and amounts.\n",
    "user successfully recharges his/her network."
   ]
  },
  {
   "cell_type": "code",
   "execution_count": 2,
   "metadata": {},
   "outputs": [
    {
     "name": "stdout",
     "output_type": "stream",
     "text": [
      "\n",
      "Enter the Service Provider Name: Aircel\n",
      "\n",
      "Below are the services that we provide  :\n",
      "          1. Airtel\n",
      "          2. Jio\n",
      "          3. Vodafone\n",
      "\n",
      "Enter the correct service provider from the above choices\n"
     ]
    }
   ],
   "source": [
    "#Various options for the Mobile Recharge\n",
    "text =\"\"\"\\nBelow are the services that we provide  :\n",
    "          1. Airtel\n",
    "          2. Jio\n",
    "          3. Vodafone\n",
    "\"\"\"\n",
    "#Enter your network service provider\n",
    "networkProvider = input('\\nEnter the Service Provider Name: ')\n",
    "\n",
    "#Converting the input to lower cases\n",
    "network = networkProvider.lower()\n",
    "\n",
    "#Initializations\n",
    "Welcometext= \"Welcome to \"\n",
    "servicePoviderList = ['vodafone','airtel','jio']\n",
    "vodafonePackages = ['Rs 179 - Valid for 26 days, Unlimited voice calls and 1 GB per Day','Rs 379 - Valid for 56 days, Unlimited voice calls and 2 GB per Day'] \n",
    "jioPackages = ['Rs 199 - Valid for 28 days, Unlimited voice calls and 2 GB per Day','Rs 399 - Valid for 56 days, Unlimited voice calls and 3 GB per Day']\n",
    "airtelPackages = ['Rs 149 - Valid for 28 days, Unlimited voice calls and Total 1 GB','Rs 599 - Valid for 56 days, Unlimited voice calls and 2 GB per Day']\n",
    "\n",
    "count = 1\n",
    "\n",
    "#check if the service provider are available or not\n",
    "if network in servicePoviderList:\n",
    "    if network == 'vodafone':\n",
    "        print(Welcometext + network.upper() +' Network')\n",
    "        for i in vodafonePackages:\n",
    "            print('\\n Your pack ',count,' is: ', i)\n",
    "            count+=1\n",
    "        #User Entry of selection pack\n",
    "        selection = int(input('selection: '))\n",
    "        if selection == 1:\n",
    "            print('Recharged successfully with pack ', vodafonePackages[selection-1])\n",
    "        elif selection == 2:\n",
    "            print('Recharged successfully with pack ', vodafonePackages[selection-1])\n",
    "        else:\n",
    "            print('No available packs')\n",
    "            \n",
    "    elif network == 'airtel':\n",
    "        print(Welcometext + network.upper() +' Network')\n",
    "        for i in airtelPackages:\n",
    "            print('\\n Your pack ',count,' is: ', i)\n",
    "            count+=1\n",
    "        #User Entry of selection pack\n",
    "        selection = int(input('selection: '))\n",
    "        if selection == 1:\n",
    "            print('Recharged successfully with pack ', airtelPackages[selection-1])\n",
    "        elif selection == 2:\n",
    "            print('Recharged successfully with pack ', airtelPackages[selection-1])\n",
    "        else:\n",
    "            print('No available packs')\n",
    "            \n",
    "    elif network == 'jio':\n",
    "        print(Welcometext + network.upper() +' Network')\n",
    "        for i in jioPackages:\n",
    "            print('\\n Your pack ',count,' is: ', i)\n",
    "            count+=1\n",
    "        \n",
    "        #User Entry of selection pack\n",
    "        selection = int(input('selection: '))\n",
    "        if selection == 1:\n",
    "            print('Recharged successfully with pack ', jioPackages[selection-1])\n",
    "        elif selection == 2:\n",
    "            print('Recharged successfully with pack ', jioPackages[selection-1])\n",
    "        else:\n",
    "            print('No available packs')\n",
    "\n",
    "#error if the service provider is not available\n",
    "else:\n",
    "    print(text)\n",
    "    print('Enter the correct service provider from the above choices')\n"
   ]
  },
  {
   "cell_type": "code",
   "execution_count": null,
   "metadata": {},
   "outputs": [],
   "source": []
  },
  {
   "cell_type": "code",
   "execution_count": null,
   "metadata": {},
   "outputs": [],
   "source": []
  }
 ],
 "metadata": {
  "celltoolbar": "Tags",
  "kernelspec": {
   "display_name": "Python 3",
   "language": "python",
   "name": "python3"
  },
  "language_info": {
   "codemirror_mode": {
    "name": "ipython",
    "version": 3
   },
   "file_extension": ".py",
   "mimetype": "text/x-python",
   "name": "python",
   "nbconvert_exporter": "python",
   "pygments_lexer": "ipython3",
   "version": "3.8.5"
  }
 },
 "nbformat": 4,
 "nbformat_minor": 4
}
