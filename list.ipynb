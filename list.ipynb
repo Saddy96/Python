{
 "cells": [
  {
   "cell_type": "markdown",
   "metadata": {},
   "source": [
    "As data processinh has become complex, DATA STRUCTURES are developed to solve problems"
   ]
  },
  {
   "cell_type": "code",
   "execution_count": null,
   "metadata": {},
   "outputs": [],
   "source": [
    "#creating a list and priting the list\n",
    "fruits = ['apple','orange','pine-apple']\n",
    "\n",
    "print(fruits)\n",
    "fruits[0]\n",
    "\n",
    "for f in fruits:\n",
    "    print(f)"
   ]
  },
  {
   "cell_type": "code",
   "execution_count": null,
   "metadata": {},
   "outputs": [],
   "source": [
    "#mutable: u can replace the content of the list as we can \n",
    "#change the legth or variable\n",
    "\n",
    "#Immutable: fixed\n",
    "\n",
    "nos = [1,2,3,4,5]\n",
    "print(nos)\n",
    "\n",
    "#Changing the value in teh list, mutable\n",
    "#Replacig the 2 with 100\n",
    "nos = [1,2,3,4,5]\n",
    "nos[1] = 100\n",
    "print(nos)"
   ]
  },
  {
   "cell_type": "code",
   "execution_count": null,
   "metadata": {},
   "outputs": [],
   "source": [
    "#Code to repalce the values with the square\n",
    "\n",
    "nos = [2,3,4,5]\n",
    "index = 0\n",
    "\n",
    "# range can also be used\n",
    "for i in nos:\n",
    "    nos[index] = i*i\n",
    "    index = index+1\n",
    "print(nos)"
   ]
  },
  {
   "cell_type": "code",
   "execution_count": null,
   "metadata": {},
   "outputs": [],
   "source": [
    "#indexing from last\n",
    "nos = [1,2,3,4,5]\n",
    "print(nos[-1])\n",
    "print(nos[-5])"
   ]
  },
  {
   "cell_type": "code",
   "execution_count": null,
   "metadata": {},
   "outputs": [],
   "source": [
    "#using the range function\n",
    "names=['abc', 'mpo', 'xyz']\n",
    "p=len(names)\n",
    "print(p)\n",
    "for i in range(len(names)):\n",
    "    print(\"happy birthday \", names[i])"
   ]
  },
  {
   "cell_type": "code",
   "execution_count": null,
   "metadata": {},
   "outputs": [],
   "source": [
    "#Removing element from the list\n",
    "\n",
    "names = ['abc', 'mpo', 'xyz']\n",
    "\n",
    "print(names)\n",
    "#using the element name\n",
    "names.remove('mpo')\n",
    "#using the element index\n",
    "names.remove(names[0])\n",
    "\n",
    "print(names)\n"
   ]
  },
  {
   "cell_type": "code",
   "execution_count": null,
   "metadata": {},
   "outputs": [],
   "source": [
    "#changing the words of the sentence and storing in a list\n",
    "sentence= input(\"Enter the sentence: \")\n",
    "words = sentence.split()\n",
    "print(words)\n",
    "index =0\n",
    "\n",
    "while index < len(words):\n",
    "    words[index] = words[index].upper()\n",
    "    index+=1 #index = index + 1\n",
    "    \n",
    "print(words)"
   ]
  },
  {
   "cell_type": "code",
   "execution_count": null,
   "metadata": {},
   "outputs": [],
   "source": [
    "#Operations on Strings\n",
    "\n",
    "#1 : Adding the list(concat)\n",
    "a=[1,2,3,4]\n",
    "b=[5,6,7,8,9]\n",
    "c=a+b\n",
    "print(c)"
   ]
  },
  {
   "cell_type": "code",
   "execution_count": null,
   "metadata": {},
   "outputs": [],
   "source": [
    "#slicing the list\n",
    "names=['tr','mn','er']\n",
    "print(names[0:2])\n",
    "print(names[:])"
   ]
  },
  {
   "cell_type": "code",
   "execution_count": null,
   "metadata": {},
   "outputs": [],
   "source": [
    "#use append() method\n",
    "#append adds the item at the last\n",
    "fruits=[\"mango\",\"apple\",\"pineapple\"]\n",
    "print(fruits)\n",
    "fruits.append(\"pear\")\n",
    "print(fruits)"
   ]
  },
  {
   "cell_type": "code",
   "execution_count": null,
   "metadata": {},
   "outputs": [],
   "source": [
    "#creating a list from start\n",
    "\n",
    "# One way\n",
    "item = []\n",
    "\n",
    "#Other way\n",
    "item = list()\n",
    "\n",
    "n=input(\"Enter the number of items: \")\n",
    "i=0\n",
    "while i < int(n):\n",
    "    name=input(\"Enter item name: \")\n",
    "   \n",
    "    item.append(name)\n",
    "    i=i+1\n",
    "    \n",
    "print(item)\n",
    "# Sorting and printing the list\n",
    "item.sort(reverse=True)\n",
    "print(item)"
   ]
  },
  {
   "cell_type": "code",
   "execution_count": null,
   "metadata": {},
   "outputs": [],
   "source": [
    "#use of insert at a specific location\n",
    "\n",
    "#Insert will be used to add at any index or place \n",
    "#whereas append will be used to add at last\n",
    "\n",
    "text = ['abc', 'mpo', 'xyz']\n",
    "\n",
    "text.insert(1,'sdc')\n",
    "print(text)"
   ]
  },
  {
   "cell_type": "code",
   "execution_count": null,
   "metadata": {},
   "outputs": [],
   "source": [
    "#use of del()\n",
    "#remove items at specific index\n",
    "\n",
    "myList = [3,5,7,8]\n",
    "\n",
    "del myList[1]\n",
    "\n",
    "myList"
   ]
  },
  {
   "cell_type": "code",
   "execution_count": null,
   "metadata": {},
   "outputs": [],
   "source": [
    "#use of pop()\n",
    "#pop returns the deleted value from the list whereas del() does not return any value\n",
    "\n",
    "nls =[]\n",
    "myList = [3,5,7,8]\n",
    "p =myList.pop(1)\n",
    "nls.append(p)\n",
    "print(p)\n",
    "print(myList)\n",
    "print(nls)"
   ]
  },
  {
   "cell_type": "code",
   "execution_count": null,
   "metadata": {},
   "outputs": [],
   "source": [
    "# Creating a list of same items\n",
    "temp=[]\n",
    "#temp=list()\n",
    "temp=[\"hi\"]*4\n",
    "print(temp)"
   ]
  },
  {
   "cell_type": "code",
   "execution_count": null,
   "metadata": {},
   "outputs": [],
   "source": [
    "#Aliasing # uses same address\n",
    "#don't use the assignment operator for aliasing as modification in one updates other\n",
    "\n",
    "first=[10,20,30]\n",
    "second = first\n",
    "print (first)\n",
    "print (second)"
   ]
  },
  {
   "cell_type": "code",
   "execution_count": null,
   "metadata": {},
   "outputs": [],
   "source": [
    "#Aliasing - 1st way\n",
    "third=[]\n",
    "first=[10,34,20]\n",
    "for i in first:\n",
    "    third.append(i)\n",
    "print(third)\n",
    "# update list first\n",
    "first[2]=500\n",
    "print(first)\n",
    "print(third)"
   ]
  },
  {
   "cell_type": "code",
   "execution_count": null,
   "metadata": {},
   "outputs": [],
   "source": [
    "#Aliasing - 2nd way\n",
    "# Another way to copy list\n",
    "first=[10,34,20]\n",
    "third=first[:]\n",
    "first[2]=500\n",
    "print(first)\n",
    "print(third)"
   ]
  },
  {
   "cell_type": "code",
   "execution_count": null,
   "metadata": {},
   "outputs": [],
   "source": [
    "#WAP to store the even no\n",
    "\n",
    "evenList = []\n",
    "no = int(input('Enter the no: '))\n",
    "for i in range(2,no,2):\n",
    "    evenList.append(i)\n",
    "    \n",
    "print(evenList)\n",
    "    "
   ]
  },
  {
   "cell_type": "code",
   "execution_count": null,
   "metadata": {},
   "outputs": [],
   "source": [
    "n=int(input(\"Enter how many numbers do you want to enter: \"))\n",
    "even=[]\n",
    "for i in range(1,n+1):\n",
    "    even.append(i*2)\n",
    "print(even)"
   ]
  },
  {
   "cell_type": "code",
   "execution_count": null,
   "metadata": {},
   "outputs": [],
   "source": [
    "# List comprehension for the code above.\n",
    "#[expression for item in list]\n",
    "even=[]\n",
    "even=[i for i in range(1,6) if i%2 == 0]\n",
    " \n",
    "print(even)"
   ]
  },
  {
   "cell_type": "code",
   "execution_count": null,
   "metadata": {},
   "outputs": [],
   "source": [
    "a = [i for i in range(5)]\n",
    "print(a)"
   ]
  },
  {
   "cell_type": "code",
   "execution_count": null,
   "metadata": {},
   "outputs": [],
   "source": [
    "# use of built in functions in the list: min, max, sum, average\n",
    "nos=[1,2,3,4,5,6,7,8]\n",
    "print(\"Maximum: \", max(nos))\n",
    "print(\"Minimum: \", min(nos))\n",
    "print(\"Sum\", sum(nos))\n",
    "print(\"average\", sum(nos)/len(nos))"
   ]
  },
  {
   "cell_type": "code",
   "execution_count": null,
   "metadata": {},
   "outputs": [],
   "source": [
    "nos=[]\n",
    "while True:\n",
    "    inp=input(\"Enter the name: \")\n",
    "    if inp == \"done\": break\n",
    "    nos.append(inp)\n",
    "    \n",
    "print(nos)"
   ]
  },
  {
   "cell_type": "code",
   "execution_count": null,
   "metadata": {},
   "outputs": [],
   "source": []
  }
 ],
 "metadata": {
  "kernelspec": {
   "display_name": "Python 3",
   "language": "python",
   "name": "python3"
  },
  "language_info": {
   "codemirror_mode": {
    "name": "ipython",
    "version": 3
   },
   "file_extension": ".py",
   "mimetype": "text/x-python",
   "name": "python",
   "nbconvert_exporter": "python",
   "pygments_lexer": "ipython3",
   "version": "3.8.5"
  }
 },
 "nbformat": 4,
 "nbformat_minor": 4
}
