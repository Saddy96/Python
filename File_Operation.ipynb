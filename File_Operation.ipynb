{
 "cells": [
  {
   "attachments": {
    "image.png": {
     "image/png": "[encoded data removed]"
    }
   },
   "cell_type": "markdown",
   "metadata": {},
   "source": [
    "![image.png](attachment:image.png)"
   ]
  },
  {
   "cell_type": "code",
   "execution_count": null,
   "metadata": {},
   "outputs": [],
   "source": [
    "# To test handle\n",
    "# open() function\n",
    "\n",
    "fname=open(\"text.txt\")\n",
    "print(fname)\n",
    "fname.close()"
   ]
  },
  {
   "cell_type": "markdown",
   "metadata": {},
   "source": [
    "# The mode can be specified along with the opening the file\n",
    "\n",
    "There are 3 modes r - read, w- write and a - append mode\n",
    "\n",
    "default is read mode\n",
    "\n"
   ]
  },
  {
   "cell_type": "code",
   "execution_count": null,
   "metadata": {},
   "outputs": [],
   "source": [
    "# read(): Takes the entire contents of the file as a single string.\n",
    "fname=open(\"text.txt\",\"r\")\n",
    "text=fname.read()\n",
    "print(text)"
   ]
  },
  {
   "cell_type": "code",
   "execution_count": null,
   "metadata": {},
   "outputs": [],
   "source": [
    "# read(): Takes the entire contents of the file as a single string.\n",
    "fname=open(\"text.txt\",\"r\")\n",
    "text=fname.readline()\n",
    "print(text)"
   ]
  },
  {
   "cell_type": "code",
   "execution_count": null,
   "metadata": {},
   "outputs": [],
   "source": [
    "# read(): read one by one\n",
    "fname=open(\"text.txt\",\"r\")\n",
    "\n",
    "for letters in fname:\n",
    "    print(letters, end = \"\")\n",
    "\n",
    "fname.close()\n",
    "# Output hasn't one extra line. \n",
    "# Reason: Each line of text input from file retains its newline charactr."
   ]
  },
  {
   "cell_type": "code",
   "execution_count": null,
   "metadata": {},
   "outputs": [],
   "source": [
    "# reading using readline()\n",
    "fname=open(\"text.txt\")\n",
    "line=fname.readline() \n",
    "print(line, end=\"\")\n",
    "line1=fname.readline() \n",
    "print(line1)\n",
    "fname.close()\n",
    "#fname.readlines()"
   ]
  },
  {
   "cell_type": "code",
   "execution_count": null,
   "metadata": {},
   "outputs": [],
   "source": [
    "# Reading a file using while loop\n",
    "myfile = open(\"text.txt\", \"r\")\n",
    "myline = myfile.readline()\n",
    "while myline:\n",
    "    print(myline, end=\"\")\n",
    "    myline = myfile.readline()\n",
    "myfile.close()  "
   ]
  },
  {
   "cell_type": "code",
   "execution_count": null,
   "metadata": {},
   "outputs": [],
   "source": [
    "#Using Readlines\n",
    "fname=open(\"text.txt\")\n",
    "p=fname.readlines()\n",
    "print(p)\n",
    "fname.close()"
   ]
  },
  {
   "cell_type": "code",
   "execution_count": null,
   "metadata": {},
   "outputs": [],
   "source": [
    "# Reading a file line by line. \n",
    "#Loop goes to the handle\n",
    "fname=open(\"text.txt\",\"r\")\n",
    "for letters in fname:\n",
    "     print(letters)\n",
    "    \n",
    "fname.close()\n",
    "    \n",
    "# Output has one extra line. \n",
    "# Reason: Each line of text input from file retains its newline charactr."
   ]
  },
  {
   "cell_type": "code",
   "execution_count": null,
   "metadata": {},
   "outputs": [],
   "source": [
    "fileName = input('Enter the file name ')\n",
    "\n",
    "try:\n",
    "    fname=open(fileName)\n",
    "\n",
    "except noFileError:\n",
    "    print(\"No File exists\")\n",
    "\n",
    "else:\n",
    "    print(fname.readline())\n",
    "   \n",
    "fname.close()"
   ]
  },
  {
   "cell_type": "code",
   "execution_count": null,
   "metadata": {},
   "outputs": [],
   "source": [
    "try:\n",
    "    fname=open(\"text.txt\")\n",
    "    print(\"File exist\")\n",
    "    print('sdcsd')\n",
    "    \n",
    "except:\n",
    "    print(\"File does not exist\")"
   ]
  },
  {
   "cell_type": "code",
   "execution_count": null,
   "metadata": {},
   "outputs": [],
   "source": [
    "# Writing mulitple lines in an already existing file.\n",
    "# show the use of new line character also. \n",
    "# Explain the write mode\n",
    "fi=open(\"p.txt\",\"w+\") \n",
    " \n",
    "# Passing only w is only writing a the file we won't be able to use readline or readlines() fun\n",
    "\n",
    "# TO use readline function use \"w+\"\n",
    "    \n",
    "# using read() the file should exist\n",
    "# using write if the file doesn't exist then it will create it\n",
    "\n",
    "fi.write(\"Hello World\\n\") \n",
    "fi.write(\"This is our new text file\\n\") \n",
    "fi.write(\"and this is another line.\") \n",
    "\n",
    "# making the handle at the begining\n",
    "fi.seek(0)\n",
    "\n",
    "print(fi.readlines())\n",
    "fi.close()"
   ]
  },
  {
   "cell_type": "code",
   "execution_count": null,
   "metadata": {},
   "outputs": [],
   "source": [
    "#Write a function write_to_file(filename,myname,myage,major) that opens the\n",
    "#file <filename> and writes 3 lines in it using the data given. Here is a sample\n",
    " #Call the file 'namefile.txt'\n",
    "#My name is Your name \n",
    "#My age is Your age\n",
    "#I am majoring in BA\n",
    "\n",
    "fileName = input('Enter the file name ')\n",
    "myname = input('Enter the Name ')\n",
    "myage = int(input('Enter the age of the person '))\n",
    "major = input('Enter the major ')\n",
    "\n",
    "L1 = \"My name is :\" + myname + \"\\n\"\n",
    "L2 = \"My age is :\" + str(myage) + \"\\n\"\n",
    "L3 = \"I am majoring in :\" + major + \"\\n\"\n",
    "def write_to_file(filename,myname,myage,major):\n",
    "    fi = open(\"filename\", \"w+\")\n",
    "    fi.write(L1)\n",
    "    fi.write(L2)\n",
    "    fi.write(L3)\n",
    "    \n",
    "    fi.close()\n",
    "      \n",
    "write_to_file(fileName,myname,myage,major) "
   ]
  },
  {
   "cell_type": "code",
   "execution_count": null,
   "metadata": {},
   "outputs": [],
   "source": [
    "lines = [\"This is a test program\\n. It will store data into the file\"]\n",
    "f = open(\"lorem.txt\", \"w\")\n",
    "f.writelines(lines)\n",
    "f.close()\n"
   ]
  },
  {
   "cell_type": "code",
   "execution_count": null,
   "metadata": {},
   "outputs": [],
   "source": [
    "#Opening the file in append mode\n",
    "fname=open(\"test1.txt\",\"a\")\n",
    "fname.write(\"\\n Appended text \")\n",
    "fname.close()"
   ]
  },
  {
   "cell_type": "code",
   "execution_count": null,
   "metadata": {},
   "outputs": [],
   "source": [
    "# Open the file in the a+ mode to read also\n",
    "fname=open(\"test1.txt\",\"a+\")\n",
    "fname.seek(0)\n",
    "print(fname.readlines())\n",
    "fname.close()"
   ]
  },
  {
   "cell_type": "code",
   "execution_count": null,
   "metadata": {},
   "outputs": [],
   "source": [
    "# Removing leading and trailing white spaces.\n",
    "string = ' Hello all '\n",
    "# Leading and trailing whitespaces are removed\n",
    "print(string.strip())\n"
   ]
  },
  {
   "cell_type": "code",
   "execution_count": null,
   "metadata": {},
   "outputs": [],
   "source": [
    "# rstrip()\n",
    "txt = \"bananaqoqsw\"\n",
    "x = txt.rstrip(\"aqoqsw\")\n",
    "print(x)"
   ]
  },
  {
   "cell_type": "code",
   "execution_count": null,
   "metadata": {},
   "outputs": [],
   "source": [
    "# string which is to be stripped \n",
    "string = \"geeks for geeks\"\n",
    "  \n",
    "# Removes given set of characters from \n",
    "# right. \n",
    "print(string.rstrip('ske'))  "
   ]
  },
  {
   "cell_type": "code",
   "execution_count": null,
   "metadata": {},
   "outputs": [],
   "source": [
    "# string which is to be stripped \n",
    "string = \"abc@gmail.com\"\n",
    "  \n",
    "# Removes given set of characters from \n",
    "# right. \n",
    "print(string.rstrip('@')) "
   ]
  },
  {
   "cell_type": "code",
   "execution_count": null,
   "metadata": {},
   "outputs": [],
   "source": [
    "# Removing new line character from the output\n",
    "def remove_newlines(fname):\n",
    "    flist = open(fname).readlines()\n",
    "    print\n",
    "    return [s.rstrip('\\n') for s in flist]\n",
    "print(remove_newlines(\"text.txt\"))"
   ]
  },
  {
   "cell_type": "code",
   "execution_count": 7,
   "metadata": {},
   "outputs": [],
   "source": [
    "def copyData():\n",
    "    f1 = open('text.txt', \"r\")\n",
    "    f2 = open(\"new.txt\", \"w\")\n",
    "\n",
    "    for letters in f1:\n",
    "        f2.write(letters)\n",
    "     \n",
    "    f1.close()\n",
    "    f2.close()\n",
    "copyData()"
   ]
  },
  {
   "cell_type": "code",
   "execution_count": null,
   "metadata": {},
   "outputs": [],
   "source": [
    "# copy the contents of one file to another\n",
    "def copy_file(infilename, outfilename):\n",
    "    \"\"\" Opens two files and copies one into the other line by line. \"\"\"\n",
    "    infile = open(infilename)\n",
    "    outfile = open(outfilename,'w')\n",
    "    \n",
    "    for line in infile:\n",
    "        outfile.write(line)\n",
    "        \n",
    "    infile.close()\n",
    "    outfile.close()\n",
    "    \n",
    "copy_file('test.txt','f1.txt')   \n",
    "    "
   ]
  },
  {
   "cell_type": "code",
   "execution_count": 10,
   "metadata": {},
   "outputs": [],
   "source": [
    "def write_to_file(fname,name, age, maj):\n",
    "                  \n",
    "        fi=open(fname,\"w+\") \n",
    "        fi.write(name)\n",
    "        \n",
    "        fi.write(age) \n",
    "        fi.write(maj)\n",
    "        fi.close()\n",
    "        \n",
    "write_to_file(\"test1.txt\",\"Tripti\\n\",\"42\",\"BA\")"
   ]
  },
  {
   "attachments": {
    "image.png": {
     "image/png": "[encoded data removed]"
    }
   },
   "cell_type": "markdown",
   "metadata": {},
   "source": [
    "# Shutil Module\n",
    "![image.png](attachment:image.png)"
   ]
  },
  {
   "cell_type": "code",
   "execution_count": 8,
   "metadata": {},
   "outputs": [
    {
     "data": {
      "text/plain": [
       "'abc.txt'"
      ]
     },
     "execution_count": 8,
     "metadata": {},
     "output_type": "execute_result"
    }
   ],
   "source": [
    "# copying one file to another.\n",
    "from shutil import copyfile\n",
    "copyfile('text.txt', 'abc.txt') #(src,dest)\n",
    "\n",
    "# Errors\n",
    "# When src and dest are same we will get exception\n",
    "# if dest file is directory then also it will generate exp\n",
    "# if dest file doesnot have permission\n",
    "\n",
    "# If the source and destination\n",
    "# 1 If source and destination are same file: 'SameFileError' exception will be raised\n",
    "# 2 If the destination is directory then 'IsADirectoryError' exception\n",
    "# 3 If the destination is not writable 'PermissionError' exception"
   ]
  },
  {
   "cell_type": "code",
   "execution_count": null,
   "metadata": {},
   "outputs": [],
   "source": [
    "# WAP that writes following student data in a text file.\n",
    "#Roll No, Name, Specialization, Marks1, Marks2, Marks3, Marks4.\n",
    "#Read the data from file and print the total marks obtained by each student "
   ]
  },
  {
   "cell_type": "code",
   "execution_count": null,
   "metadata": {},
   "outputs": [],
   "source": [
    "#Open the file mbox-short.txt and read it line by line. When you find a line that starts with 'From ' like the following line:\n",
    "#From stephen.marquard@uct.ac.za Sat Jan 5 09:14:16 2008\n",
    "#You will parse the From line using split() and print out the second word\n",
    "#in the line (i.e. the entire address of the person who sent the message). Then print out a count at the end.\n",
    "#You can download the sample data at http://www.py4e.com/code3/mbox-short.txt"
   ]
  }
 ],
 "metadata": {
  "kernelspec": {
   "display_name": "Python 3",
   "language": "python",
   "name": "python3"
  },
  "language_info": {
   "codemirror_mode": {
    "name": "ipython",
    "version": 3
   },
   "file_extension": ".py",
   "mimetype": "text/x-python",
   "name": "python",
   "nbconvert_exporter": "python",
   "pygments_lexer": "ipython3",
   "version": "3.8.5"
  }
 },
 "nbformat": 4,
 "nbformat_minor": 4
}
